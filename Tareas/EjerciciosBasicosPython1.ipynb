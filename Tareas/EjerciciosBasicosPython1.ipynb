{
 "cells": [
  {
   "cell_type": "markdown",
   "id": "simplified-wisdom",
   "metadata": {},
   "source": [
    "# Ejercicios con Estructuras básicas de Python"
   ]
  },
  {
   "cell_type": "markdown",
   "id": "enclosed-corrections",
   "metadata": {},
   "source": [
    "## Tuplas"
   ]
  },
  {
   "cell_type": "markdown",
   "id": "convinced-herald",
   "metadata": {},
   "source": [
    "Crear una variable flotante, integer, boleana y compleja e imprimir el tipo de variable que es."
   ]
  },
  {
   "cell_type": "code",
   "execution_count": 3,
   "id": "administrative-heater",
   "metadata": {},
   "outputs": [],
   "source": [
    "a=1.3478\n",
    "b=12\n",
    "c=True\n",
    "d=4+7j"
   ]
  },
  {
   "cell_type": "code",
   "execution_count": 4,
   "id": "prime-letters",
   "metadata": {},
   "outputs": [
    {
     "name": "stdout",
     "output_type": "stream",
     "text": [
      "<class 'float'>\n",
      "<class 'int'>\n",
      "<class 'bool'>\n",
      "<class 'complex'>\n"
     ]
    }
   ],
   "source": [
    "print(type(a))\n",
    "print(type(b))\n",
    "print(type(c))\n",
    "print(type(d))"
   ]
  },
  {
   "cell_type": "markdown",
   "id": "friendly-millennium",
   "metadata": {},
   "source": [
    "Crear una tupla con valores enteros imprimir el primer y ultimo valor."
   ]
  },
  {
   "cell_type": "code",
   "execution_count": 20,
   "id": "north-property",
   "metadata": {},
   "outputs": [],
   "source": [
    "tupla=(1, 4, 5, 7, 8)"
   ]
  },
  {
   "cell_type": "code",
   "execution_count": 21,
   "id": "prescribed-consent",
   "metadata": {},
   "outputs": [
    {
     "name": "stdout",
     "output_type": "stream",
     "text": [
      "1 <-- Primer número\n",
      "8 <-- Último número\n"
     ]
    }
   ],
   "source": [
    "print(tupla[0], \"<--\", \"Primer número\")\n",
    "print(tupla[4], \"<--\", \"Último número\")"
   ]
  },
  {
   "cell_type": "markdown",
   "id": "saving-delivery",
   "metadata": {},
   "source": [
    "Añadir 3 valores de string a la tupla.\n",
    "NOTA: La tupla es un objeto inmutable"
   ]
  },
  {
   "cell_type": "code",
   "execution_count": 27,
   "id": "unsigned-bookmark",
   "metadata": {},
   "outputs": [
    {
     "name": "stdout",
     "output_type": "stream",
     "text": [
      "[1, 4, 5, 7, 8]\n",
      "[1, 4, 5, 7, 8, 'hola', 'como', 'estas']\n",
      "(1, 4, 5, 7, 8, 'hola', 'como', 'estas')\n"
     ]
    }
   ],
   "source": [
    "lista=list(tupla)\n",
    "print(lista) #revise que la lista tuviera los datos de la tupla\n",
    "lista.append(\"hola\")\n",
    "lista.append(\"como\")\n",
    "lista.append(\"estas\")#agregue valores a lista por se mutable\n",
    "print(lista) #revise que tuvieran todos los elementos\n",
    "lista.clear #la limpie \n",
    "tupla=tuple(lista) #asigne valores a la tupla a partir de lista\n",
    "print(tupla)"
   ]
  },
  {
   "cell_type": "markdown",
   "id": "plastic-leather",
   "metadata": {},
   "source": [
    "Verificar si una variable existe dentro de la tupla."
   ]
  },
  {
   "cell_type": "code",
   "execution_count": 31,
   "id": "thrown-asthma",
   "metadata": {},
   "outputs": [
    {
     "name": "stdout",
     "output_type": "stream",
     "text": [
      "como\n"
     ]
    }
   ],
   "source": [
    "print(tupla[6]) #verifique que estuviera una variable string"
   ]
  },
  {
   "cell_type": "markdown",
   "id": "strange-jonathan",
   "metadata": {},
   "source": [
    "## Listas"
   ]
  },
  {
   "cell_type": "markdown",
   "id": "fixed-schedule",
   "metadata": {},
   "source": [
    "Crear una lista con 40 elementos aleatorios enteros."
   ]
  },
  {
   "cell_type": "code",
   "execution_count": 39,
   "id": "competitive-firewall",
   "metadata": {},
   "outputs": [
    {
     "name": "stdout",
     "output_type": "stream",
     "text": [
      "['3', '9', '19', '3', '29', '33', '31', '21', '19', '11', '27', '19', '35', '21', '33', '3', '25', '35', '23', '9', '5', '3', '5', '9', '3', '23', '37', '33', '31', '35', '11', '3', '7', '23', '27', '33', '35', '25', '27', '37']\n"
     ]
    }
   ],
   "source": [
    "import random as r\n",
    "rlista=list(str(r.randrange(3, 40, 2))) #no se puede convertir un int a list, primero a str y luego lista\n",
    "#creditos a esta pagina: https://es.stackoverflow.com/questions/364966/como-convertir-un-dato-int-a-string-en-python\n",
    "i=0\n",
    "while i<39:\n",
    "    num=r.randrange(3, 40, 2)\n",
    "    #descubrí esta función de randrange en: https://j2logo.com/python/generar-numeros-aleatorios-en-python/\n",
    "    agregar=str(num) #para convertir int a str\n",
    "    rlista.append(agregar) #descubrí porque me marcaba error que en las listas no puedo agregar numeros (int, float)\n",
    "    i+=1\n",
    "print(rlista)"
   ]
  },
  {
   "cell_type": "markdown",
   "id": "limited-recognition",
   "metadata": {},
   "source": [
    "Con una funcion (def) crear dos listas nuevas a partir de la lista creada por numeros aleatorios, en la cual en una esten los elementos pares, y en la otra los elementos impares."
   ]
  },
  {
   "cell_type": "code",
   "execution_count": 108,
   "id": "cheap-dryer",
   "metadata": {},
   "outputs": [],
   "source": [
    "def listas(inicio, fin, cantidad):\n",
    "    valor=cantidad-1\n",
    "    rpar=[]\n",
    "    rimpar=[] \n",
    "    i=0\n",
    "    while i<2:\n",
    "        prueba=inicio%2\n",
    "        if prueba==0: \n",
    "            rpar=list(str(r.randrange(inicio, fin, 2))) \n",
    "            j=0\n",
    "            while j<valor:  \n",
    "                num=r.randrange(inicio, fin, 2) \n",
    "                agregar=str(num) \n",
    "                rpar.append(agregar)  \n",
    "                j+=1\n",
    "            print(\"Lista par: \",rpar) \n",
    "        else:\n",
    "            rimpar=list(str(r.randrange(inicio, fin, 2))) \n",
    "            j=0\n",
    "            while j<valor:  \n",
    "                num=r.randrange(inicio, fin, 2) \n",
    "                agregar=str(num) \n",
    "                rimpar.append(agregar)  \n",
    "                j+=1\n",
    "            print(\"Lista impar: \",rimpar) \n",
    "        inicio+=1\n",
    "        i+=1\n",
    "    \n",
    "    listafinal=rpar+rimpar \n",
    "    print(\"Lista Final\", listafinal )       \n",
    "    "
   ]
  },
  {
   "cell_type": "code",
   "execution_count": 110,
   "id": "local-alcohol",
   "metadata": {},
   "outputs": [
    {
     "name": "stdout",
     "output_type": "stream",
     "text": [
      "Lista par:  ['3', '4', '26', '2', '28', '30', '10', '32', '6', '8', '34', '16', '36', '18', '4', '8', '10', '10', '12', '34', '4']\n",
      "Lista impar:  ['3', '1', '35', '3', '27', '25', '37', '33', '17', '23', '23', '7', '35', '35', '13', '15', '29', '37', '7', '9', '37']\n",
      "Lista Final ['3', '4', '26', '2', '28', '30', '10', '32', '6', '8', '34', '16', '36', '18', '4', '8', '10', '10', '12', '34', '4', '3', '1', '35', '3', '27', '25', '37', '33', '17', '23', '23', '7', '35', '35', '13', '15', '29', '37', '7', '9', '37']\n"
     ]
    }
   ],
   "source": [
    "lista=listas(2,40,20)"
   ]
  },
  {
   "cell_type": "markdown",
   "id": "entire-culture",
   "metadata": {},
   "source": [
    "Crear dos variables con la longitud de ambas listas nuevas e imprimir las variables."
   ]
  },
  {
   "cell_type": "code",
   "execution_count": 113,
   "id": "prostate-denmark",
   "metadata": {},
   "outputs": [
    {
     "name": "stdout",
     "output_type": "stream",
     "text": [
      "2\n",
      "2\n"
     ]
    }
   ],
   "source": [
    "a=len(rpar)\n",
    "b=len(rimpar)\n",
    "print(a)\n",
    "print(b)"
   ]
  },
  {
   "cell_type": "markdown",
   "id": "combined-assistant",
   "metadata": {},
   "source": [
    "Ordenar los elementos de la lista par de mayor a menor, y los de la lista impar de menor a mayor."
   ]
  },
  {
   "cell_type": "code",
   "execution_count": 107,
   "id": "touched-spyware",
   "metadata": {},
   "outputs": [
    {
     "name": "stdout",
     "output_type": "stream",
     "text": [
      "['6', '6']\n",
      "['3', '5']\n"
     ]
    }
   ],
   "source": [
    "rpar.sort(reverse=True)\n",
    "print(rpar)\n",
    "rimpar.sort()\n",
    "print(rimpar)"
   ]
  },
  {
   "cell_type": "markdown",
   "id": "affecting-playing",
   "metadata": {},
   "source": [
    "Utilizar al menos cuatro de las funciones de listas en python en la lista original de 40 elementos"
   ]
  },
  {
   "cell_type": "code",
   "execution_count": 114,
   "id": "efficient-denial",
   "metadata": {},
   "outputs": [
    {
     "name": "stdout",
     "output_type": "stream",
     "text": [
      "['11', '11', '19', '19', '19', '21', '21', '23', '23', '23', '25', '25', '27', '27', '27', '29', '3', '3', '3', '3', '3', '3', '31', '31', '33', '33', '33', '33', '35', '35', '35', '35', '37', '37', '5', '5', '7', '9', '9', '9']\n",
      "['11', '11', '19', '19', '19', '21', '21', '23', '23', '23', '25', '25', '27', '27', '27', '29', '3', '3', '3', '3', '3', '3', '31', '31', '33', '33', '33', '33', '35', '35', '35', '35', '37', '37', '5', '5', '7', '9', '9']\n",
      "['11', '11', '19', '19', '19', '21', '21', '23', '23', '23', '25', '25', '27', '27', '27', '29', '3', '3', '3', '3', '3', '3', '31', '31', '33', '33', '33', '33', '35', '35', '35', '35', '37', '37', '5', '5', '7', '9', '9', '4']\n"
     ]
    },
    {
     "data": {
      "text/plain": [
       "6"
      ]
     },
     "execution_count": 114,
     "metadata": {},
     "output_type": "execute_result"
    }
   ],
   "source": [
    "rlista.sort()#ordenar de forma ascedente\n",
    "print(rlista)\n",
    "rlista.pop(-1)# quitar un elemento \n",
    "print(rlista)\n",
    "rlista.append(\"4\") #agregar un elemento\n",
    "print(rlista)\n",
    "rlista.count(\"3\") #contar cuantas veces aparece el 3"
   ]
  },
  {
   "cell_type": "markdown",
   "id": "driving-debate",
   "metadata": {},
   "source": [
    "# Diccionarios"
   ]
  },
  {
   "cell_type": "markdown",
   "id": "raised-contest",
   "metadata": {},
   "source": [
    "Crear un diccionario de 6 personas que conozcas con su primer nombre y su edad."
   ]
  },
  {
   "cell_type": "code",
   "execution_count": 131,
   "id": "aging-spank",
   "metadata": {},
   "outputs": [
    {
     "name": "stdout",
     "output_type": "stream",
     "text": [
      "{'Nombres': ['Angel', 'Emma', 'Cecy', 'Karla', 'Ana', 'karen'], 'Edades': [12, 23, 18, 21, 20, 19]}\n"
     ]
    }
   ],
   "source": [
    "dict1={\"Nombres\":[\"Angel\", \n",
    "                     \"Emma\", \n",
    "                     \"Cecy\",\n",
    "                     \"Karla\",\n",
    "                     \"Ana\", \n",
    "                     \"karen\"],\n",
    "          \"Edades\":[12,\n",
    "                   23,\n",
    "                   18,\n",
    "                   21,\n",
    "                   20,\n",
    "                   19]}\n",
    "print(dict1)"
   ]
  },
  {
   "cell_type": "markdown",
   "id": "entertaining-sensitivity",
   "metadata": {},
   "source": [
    "Crear una lista con los valores de la edad y reacomodar la lista de menor a mayor valor."
   ]
  },
  {
   "cell_type": "code",
   "execution_count": 132,
   "id": "industrial-singles",
   "metadata": {},
   "outputs": [
    {
     "name": "stdout",
     "output_type": "stream",
     "text": [
      "[12, 23, 18, 21, 20, 19]\n"
     ]
    }
   ],
   "source": [
    "valores=list(dict1.get(\"Edades\"))\n",
    "print(valores)"
   ]
  },
  {
   "cell_type": "markdown",
   "id": "cellular-arizona",
   "metadata": {},
   "source": [
    "Usando el diccionario y un loop, imprimir solo los nombres."
   ]
  },
  {
   "cell_type": "code",
   "execution_count": 133,
   "id": "recovered-stations",
   "metadata": {},
   "outputs": [
    {
     "name": "stdout",
     "output_type": "stream",
     "text": [
      "Angel\n",
      "Emma\n",
      "Cecy\n",
      "Karla\n",
      "Ana\n",
      "karen\n"
     ]
    }
   ],
   "source": [
    "valor=len(valores)\n",
    "i=0\n",
    "while i<valor:\n",
    "    nom=str(dict1[\"Nombres\"][i])\n",
    "    print(nom)\n",
    "    i+=1"
   ]
  },
  {
   "cell_type": "markdown",
   "id": "indonesian-danger",
   "metadata": {},
   "source": [
    "Añadir dos personas nuevas a tu diccionario, incluyendo edad."
   ]
  },
  {
   "cell_type": "code",
   "execution_count": 139,
   "id": "plain-faculty",
   "metadata": {},
   "outputs": [
    {
     "name": "stdout",
     "output_type": "stream",
     "text": [
      "[{'Nombres': ['Angel', 'Emma', 'Cecy', 'Karla', 'Ana', 'karen'], 'Edades': [12, 23, 18, 21, 20, 19]}, {'Nombres': ['Pedro', 'Juan'], 'Edades': [23, 16]}]\n"
     ]
    }
   ],
   "source": [
    "dict2=({\"Nombres\":[\"Pedro\",\n",
    "                        \"Juan\"],\n",
    "             \"Edades\":[23,\n",
    "                       16]})\n",
    "dict3=[]\n",
    "dict3.append(dict1)\n",
    "dict3.append(dict2)\n",
    "print(dict3)"
   ]
  },
  {
   "cell_type": "markdown",
   "id": "european-depression",
   "metadata": {},
   "source": [
    "## Sets"
   ]
  },
  {
   "cell_type": "markdown",
   "id": "attractive-assault",
   "metadata": {},
   "source": [
    "Crea un set con 100 numeros aleatorios enteros del 1 al 25."
   ]
  },
  {
   "cell_type": "code",
   "execution_count": 143,
   "id": "victorian-mitchell",
   "metadata": {},
   "outputs": [
    {
     "name": "stdout",
     "output_type": "stream",
     "text": [
      "{'2', '12', '22', '11', '21', '7', '16', '8', '9', '15', '3', '5', '20', '14', '13', '1', '6', '18', '10', '23', '24', '19', '4'}\n"
     ]
    }
   ],
   "source": [
    "rlista=list(str(r.randrange(1, 25, 1))) \n",
    "i=0\n",
    "while i<99:\n",
    "    num=r.randrange(1, 25, 1)\n",
    "    agregar=str(num)\n",
    "    rlista.append(agregar)\n",
    "    i+=1\n",
    "setprueba=set(rlista)\n",
    "print(setprueba)"
   ]
  },
  {
   "cell_type": "markdown",
   "id": "backed-denial",
   "metadata": {},
   "source": [
    "Comprueba la longitud de tu set."
   ]
  },
  {
   "cell_type": "code",
   "execution_count": 144,
   "id": "biological-drama",
   "metadata": {},
   "outputs": [
    {
     "data": {
      "text/plain": [
       "23"
      ]
     },
     "execution_count": 144,
     "metadata": {},
     "output_type": "execute_result"
    }
   ],
   "source": [
    "len(setprueba)"
   ]
  },
  {
   "cell_type": "markdown",
   "id": "varying-rebecca",
   "metadata": {},
   "source": [
    "Crea una lista de 5 numeros aleatorios del 1 al 10 y comprueba si cada valor aparece en el set inicial."
   ]
  },
  {
   "cell_type": "code",
   "execution_count": 145,
   "id": "contemporary-component",
   "metadata": {},
   "outputs": [
    {
     "name": "stdout",
     "output_type": "stream",
     "text": [
      "{'5', '8', '6', '7', '3'}\n",
      "{'2', '12', '22', '11', '21', '7', '16', '8', '9', '15', '3', '5', '20', '14', '13', '1', '6', '18', '10', '23', '24', '19', '4'}\n",
      "{'8', '5', '6', '7', '3'}\n"
     ]
    }
   ],
   "source": [
    "rlista=list(str(r.randrange(1, 10, 1))) \n",
    "i=0\n",
    "while i<4:\n",
    "    num=r.randrange(1, 10, 1)\n",
    "    agregar=str(num)\n",
    "    rlista.append(agregar)\n",
    "    i+=1\n",
    "setprueba2=set(rlista)\n",
    "print(setprueba2)\n",
    "print(setprueba)\n",
    "comprueba=setprueba.intersection(setprueba2)\n",
    "print(comprueba)"
   ]
  },
  {
   "cell_type": "code",
   "execution_count": null,
   "id": "electronic-employer",
   "metadata": {},
   "outputs": [],
   "source": []
  }
 ],
 "metadata": {
  "kernelspec": {
   "display_name": "Python 3",
   "language": "python",
   "name": "python3"
  },
  "language_info": {
   "codemirror_mode": {
    "name": "ipython",
    "version": 3
   },
   "file_extension": ".py",
   "mimetype": "text/x-python",
   "name": "python",
   "nbconvert_exporter": "python",
   "pygments_lexer": "ipython3",
   "version": "3.8.5"
  }
 },
 "nbformat": 4,
 "nbformat_minor": 5
}
